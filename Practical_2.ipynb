{
  "nbformat": 4,
  "nbformat_minor": 0,
  "metadata": {
    "colab": {
      "name": "Practical 2.ipynb",
      "provenance": [],
      "collapsed_sections": [],
      "include_colab_link": true
    },
    "kernelspec": {
      "name": "python3",
      "display_name": "Python 3"
    }
  },
  "cells": [
    {
      "cell_type": "markdown",
      "metadata": {
        "id": "view-in-github",
        "colab_type": "text"
      },
      "source": [
        "<a href=\"https://colab.research.google.com/github/tartyao/2020python/blob/master/Practical_2.ipynb\" target=\"_parent\"><img src=\"https://colab.research.google.com/assets/colab-badge.svg\" alt=\"Open In Colab\"/></a>"
      ]
    },
    {
      "cell_type": "markdown",
      "metadata": {
        "id": "jp3BkDml8xiR",
        "colab_type": "text"
      },
      "source": [
        "# **2020 Python Programming Practical 2**\n",
        "\n",
        "If you do not have one already, create a [GitHub](https://github.com) account using your DHS Mail.\n",
        "\n",
        "Create a public repository 2020python\n",
        "\n",
        "File --> Save a copy in GitHub under your 2020python repository\n",
        "\n",
        "Also share this colab file with edit access with computing@dhs.sg\n",
        "\n"
      ]
    },
    {
      "cell_type": "markdown",
      "metadata": {
        "id": "-U8w0oQW9P_b",
        "colab_type": "text"
      },
      "source": [
        "**Q1. (Check if number is odd or even)**\n",
        "\n",
        "Write a program that reads an integer and checks whether it is odd or even. \n",
        "\n",
        "Sample interaction:\n",
        "```\n",
        "Enter number: 25\n",
        "25 is odd\n",
        "\n",
        "Enter number: 8\n",
        "8 is even\n",
        "\n",
        "```"
      ]
    },
    {
      "cell_type": "code",
      "metadata": {
        "id": "D0uTR7B-8qbF",
        "colab_type": "code",
        "outputId": "2d0384d3-7a64-419c-a169-b5ccdc3177ce",
        "colab": {
          "base_uri": "https://localhost:8080/",
          "height": 50
        }
      },
      "source": [
        "num = int(input('Enter number: '))\n",
        "if num % 2 == 1:\n",
        "  print(num, 'is odd')\n",
        "else:\n",
        "  print(num, 'is even')"
      ],
      "execution_count": 0,
      "outputs": [
        {
          "output_type": "stream",
          "text": [
            "Enter number: 3\n",
            "3 is odd\n"
          ],
          "name": "stdout"
        }
      ]
    },
    {
      "cell_type": "markdown",
      "metadata": {
        "id": "7Ui5CuS_9Za1",
        "colab_type": "text"
      },
      "source": [
        "**Q2. (Validate triangles and compute perimeter)**\n",
        "\n",
        "Write a program that reads three edges for a triangle and determines whether the input is valid. The input is valid if the sum of any two edges is greater than the third edge. The program will compute the perimeter of the triangle if the input is valid. Otherwise, display that the input is invalid. \n",
        "\n",
        "Sample interaction:\n",
        "```\n",
        "Enter side 1: 2\n",
        "Enter side 2: 2\n",
        "Enter side 3: 1\n",
        "Perimeter = 5\n",
        "\n",
        "Enter side 1: 1\n",
        "Enter side 2: 2\n",
        "Enter side 3: 1\n",
        "Invalid triangle!\n",
        "\n",
        "```\n",
        "\n",
        "\n"
      ]
    },
    {
      "cell_type": "code",
      "metadata": {
        "id": "CfkRAAWV9cXS",
        "colab_type": "code",
        "outputId": "a191b2d8-fa12-46fe-cd35-a846e0c67fc6",
        "colab": {
          "base_uri": "https://localhost:8080/",
          "height": 84
        }
      },
      "source": [
        "num1 = float(input('Enter side 1: '))\n",
        "num2 = float(input('Enter side 2: '))\n",
        "num3 = float(input('Enter side 3: '))\n",
        "if num1 + num2 <= num3:\n",
        "  print(\"Invalid Input\")\n",
        "elif num1 + num3 <= num2:\n",
        "  print(\"Invalid Input\")\n",
        "elif num2 + num3 <= num1:\n",
        "  print(\"Invalid Input\")\n",
        "else:\n",
        "  num4 = num1 + num2 + num3\n",
        "  print(\"Perimeter =\", num4)"
      ],
      "execution_count": 0,
      "outputs": [
        {
          "output_type": "stream",
          "text": [
            "Enter side 1: 1\n",
            "Enter side 2: 1\n",
            "Enter side 3: 1\n",
            "Perimeter = 3.0\n"
          ],
          "name": "stdout"
        }
      ]
    },
    {
      "cell_type": "markdown",
      "metadata": {
        "id": "aVhHiT8w9c7d",
        "colab_type": "text"
      },
      "source": [
        "**Q3. (Determine grade)**\n",
        "\n",
        "Write a program that prompts the user to enter a score between 0 and 100 inclusive and output the corresponding grade as well as a Pass/Fail status. Output an error message if the entered score in not within the valid range. The grading system is as follows (S and U are not passes):\n",
        "\n",
        "A: 70 - 100  \n",
        "B: 60 - 69  \n",
        "C: 55 - 59  \n",
        "D: 50 - 54  \n",
        "E: 45 - 49  \n",
        "S: 35 - 44  \n",
        "U: 0 - 34\n",
        "\n",
        "Sample interaction:\n",
        "```\n",
        "Enter score: 73\n",
        "A\n",
        "Pass\n",
        "\n",
        "Enter score: 37\n",
        "S\n",
        "Fail\n",
        "\n",
        "Enter Score: -1\n",
        "Invalid! Score must be within 0 - 100.\n",
        "\n",
        "```"
      ]
    },
    {
      "cell_type": "code",
      "metadata": {
        "id": "PwRmweEa9fny",
        "colab_type": "code",
        "outputId": "14b5462a-e629-480f-953f-602a2718a801",
        "colab": {
          "base_uri": "https://localhost:8080/",
          "height": 67
        }
      },
      "source": [
        "user = int(input(\"Enter your grade: \"))\n",
        "if user < 0 or user > 100:\n",
        "  print(\"Invalid! Score must be within 0 - 100.\")\n",
        "elif 70 <= user <= 100:\n",
        "  print(\"A\")\n",
        "elif 60 <= user <= 69:\n",
        "  print(\"B\")\n",
        "elif 55 <= user <= 59:\n",
        "  print(\"C\")\n",
        "elif 50 <= user <= 54:\n",
        "  print(\"D\")\n",
        "elif 45 <= user <= 49:\n",
        "  print(\"E\")\n",
        "elif 35 <= user <= 44:\n",
        "  print(\"S\")\n",
        "else:\n",
        "  print(\"U\")\n",
        "\n",
        "if 45 <= user <= 100:\n",
        "  print('Pass')\n",
        "elif 0 <= user <=44:\n",
        "  print('Fail')\n",
        "else:\n",
        "  print()"
      ],
      "execution_count": 0,
      "outputs": [
        {
          "output_type": "stream",
          "text": [
            "Enter your grade: 44\n",
            "S\n",
            "Fail\n"
          ],
          "name": "stdout"
        }
      ]
    },
    {
      "cell_type": "markdown",
      "metadata": {
        "id": "GwAIqQNY9gFd",
        "colab_type": "text"
      },
      "source": [
        "**Q4. (Determine leap year)**\n",
        "\n",
        "Write a program that prompts the user to enter a year and determines whether it is a leap year. A year is a leap year if it is divisible by 4 but not 100, or is divisible by 400. \n",
        "\n",
        "Sample interaction:\n",
        "```\n",
        "Enter year: 2020\n",
        "Leap\n",
        "\n",
        "Enter year: 2019\n",
        "Non-Leap\n",
        "```"
      ]
    },
    {
      "cell_type": "code",
      "metadata": {
        "id": "aOozTwoR9j9B",
        "colab_type": "code",
        "outputId": "08f08fe3-c1ca-4906-9f0c-0ccb099c03e7",
        "colab": {
          "base_uri": "https://localhost:8080/",
          "height": 50
        }
      },
      "source": [
        "year = int(input(\"Enter the year: \"))\n",
        "if year % 100 != 0 and year % 4 == 0:\n",
        "  print('Leap')\n",
        "else:\n",
        "  print(\"Non-Leap\")\n"
      ],
      "execution_count": 0,
      "outputs": [
        {
          "output_type": "stream",
          "text": [
            "Enter the year: 2016\n",
            "Leap\n"
          ],
          "name": "stdout"
        }
      ]
    },
    {
      "cell_type": "markdown",
      "metadata": {
        "id": "lE0ScX9e9kcg",
        "colab_type": "text"
      },
      "source": [
        "**Q5. (Find number of days in a month)**\n",
        "\n",
        "Write a program that prompts the user to enter the month and year, and displays the number of days in the month. Sample interaction:\n",
        "```\n",
        "Enter month: 2\n",
        "Enter year: 2020\n",
        "February 2020 has 29 days.\n",
        "\n",
        "Enter month: 3\n",
        "Enter year: 2021\n",
        "March 2021 has 31 days.\n",
        "\n",
        "```"
      ]
    },
    {
      "cell_type": "code",
      "metadata": {
        "id": "sE_bxwDs9mf6",
        "colab_type": "code",
        "outputId": "bd3a2c29-b195-4f23-bd4b-2ad0303ce6d1",
        "colab": {
          "base_uri": "https://localhost:8080/",
          "height": 67
        }
      },
      "source": [
        "num = int(input('Enter month: '))\n",
        "year = int(input('Enter year: '))\n",
        "list = ('','January','February','March','April','May','June','July','August','September','October','November','December')\n",
        "if year % 100 != 0 and year % 4 == 0:\n",
        "  if num == 2:\n",
        "    print(list[num], year, 'has 29 days.')\n",
        "  elif num % 2 == 0:\n",
        "    print(list[num], year, 'has 30 days.')\n",
        "  else:\n",
        "    print(list[num], year, 'has 31 days.')\n",
        "else:\n",
        "  if num == 2:\n",
        "    print(list[num], year, 'has 28 days.')\n",
        "  elif num % 2 == 0:\n",
        "    print(list[num], year, 'has 30 days.')\n",
        "  else:\n",
        "    print(list[num], year, 'has 31 days.')"
      ],
      "execution_count": 0,
      "outputs": [
        {
          "output_type": "stream",
          "text": [
            "Enter month: 2\n",
            "Enter year: 2020\n",
            "February 2020 has 29 days.\n"
          ],
          "name": "stdout"
        }
      ]
    },
    {
      "cell_type": "markdown",
      "metadata": {
        "id": "KSviQY0T9m7Q",
        "colab_type": "text"
      },
      "source": [
        "**Q6. (Convert from kilograms to pounds)**\n",
        "\n",
        "Write a program that displays the following table (1 kilogram = 2.2 pounds):\n",
        "```\n",
        "Kilograms Pounds\n",
        "1         2.2\n",
        "2         4.4\n",
        "3         6.6\n",
        "...\n",
        "9         19.8\n",
        "10        22.0\n",
        "```"
      ]
    },
    {
      "cell_type": "code",
      "metadata": {
        "id": "YbH9Pbul9rK-",
        "colab_type": "code",
        "outputId": "640d876f-9360-45aa-c3a3-3517bbb1530a",
        "colab": {
          "base_uri": "https://localhost:8080/",
          "height": 202
        }
      },
      "source": [
        "print('Kilograms  Pounds')\n",
        "for i in range(1,11):\n",
        "  pound = i * 2.2\n",
        "  pound = round(pound, 2)\n",
        "  print(i, \" \" * (10-len(str(i))), pound)\n"
      ],
      "execution_count": 0,
      "outputs": [
        {
          "output_type": "stream",
          "text": [
            "Kilograms  Pounds\n",
            "1           2.2\n",
            "2           4.4\n",
            "3           6.6\n",
            "4           8.8\n",
            "5           11.0\n",
            "6           13.2\n",
            "7           15.4\n",
            "8           17.6\n",
            "9           19.8\n",
            "10          22.0\n"
          ],
          "name": "stdout"
        }
      ]
    },
    {
      "cell_type": "markdown",
      "metadata": {
        "id": "V9Z95nlg97e4",
        "colab_type": "text"
      },
      "source": [
        "**Q7. (Convert from miles to kilometres)**\n",
        "\n",
        "Write a program that displays the following two tables side-by-side (1 mile = 1.609 kilometres):\n",
        "```\n",
        "Miles\tKilometers\tKilometres\tMiles\n",
        "1    \t1.609     \t20        \t12.430\n",
        "2    \t3.218     \t25        \t15.538\n",
        "\n",
        "...\n",
        "9    \t14.481    \t60        \t37.290\n",
        "10   \t16.090    \t65        \t40.398\n",
        "```\n",
        "\n"
      ]
    },
    {
      "cell_type": "code",
      "metadata": {
        "id": "1AZvvAW499PK",
        "colab_type": "code",
        "outputId": "348bf315-e768-4ba6-86a1-6db506ca8959",
        "colab": {
          "base_uri": "https://localhost:8080/",
          "height": 218
        }
      },
      "source": [
        "print('Miles  Kilometres  Kilometres  Miles')\n",
        "for i in range(0,11):\n",
        "  print(str(i), (5-len(str(i))) * \" \", \"{:.3f}\".format(i*1.609), (10-len(str(\"{:.3f}\".format(i*1.609))))*\" \", \"{:.0f}\".format((i+3)*5) , (10-len(str(\"{:.0f}\".format((i+3)*5))))*\" \", \"{:.3f}\".format((i+3)*5*1.609))\n"
      ],
      "execution_count": 37,
      "outputs": [
        {
          "output_type": "stream",
          "text": [
            "Miles  Kilometres  Kilometres  Miles\n",
            "0      0.000       15          24.135\n",
            "1      1.609       20          32.180\n",
            "2      3.218       25          40.225\n",
            "3      4.827       30          48.270\n",
            "4      6.436       35          56.315\n",
            "5      8.045       40          64.360\n",
            "6      9.654       45          72.405\n",
            "7      11.263      50          80.450\n",
            "8      12.872      55          88.495\n",
            "9      14.481      60          96.540\n",
            "10     16.090      65          104.585\n"
          ],
          "name": "stdout"
        }
      ]
    },
    {
      "cell_type": "markdown",
      "metadata": {
        "colab_type": "text",
        "id": "79toYNfyD9XP"
      },
      "source": [
        "**Q8. (Find two highest scores)**\n",
        "\n",
        "Write a program that prompts the user to enter the number of students and each student's name and score, and finally displays the student with the highest score and the student with the second-highest score. Enter up to 5 student records.\n",
        "\n"
      ]
    },
    {
      "cell_type": "code",
      "metadata": {
        "id": "Se5J95IjC9bT",
        "colab_type": "code",
        "outputId": "d68f80d3-f3d6-46d8-e517-a6425d620b65",
        "colab": {
          "base_uri": "https://localhost:8080/",
          "height": 235
        }
      },
      "source": [
        "d = {}\n",
        "highest = 0\n",
        "second = 0\n",
        "highn = \"\"\n",
        "secn = \"\"\n",
        "num = int(input('Number of students: '))\n",
        "for i in range (1,num+1):\n",
        "  user = input('Enter your name: ')\n",
        "  score = float(input('Enter your score: '))\n",
        "  if score > highest:\n",
        "    second = highest\n",
        "    secn = highn\n",
        "    highest = score\n",
        "    highn = user\n",
        "  elif score > second:\n",
        "    second = score\n",
        "    secn = user\n",
        "  else:\n",
        "    pass\n",
        "print('Highest scorer is', highn, 'with a score of', highest)\n",
        "print('Second highest scorer is', secn, 'with a score of', second)"
      ],
      "execution_count": 39,
      "outputs": [
        {
          "output_type": "stream",
          "text": [
            "Number of students: 5\n",
            "Enter your name: Jodi\n",
            "Enter your score: 100\n",
            "Enter your name: tom\n",
            "Enter your score: 50\n",
            "Enter your name: Bob\n",
            "Enter your score: 60\n",
            "Enter your name: Morg\n",
            "Enter your score: 0\n",
            "Enter your name: Ben\n",
            "Enter your score: 80\n",
            "Highest scorer is Jodi with a score of 100.0\n",
            "Second highest scorer is Ben with a score of 80.0\n"
          ],
          "name": "stdout"
        }
      ]
    },
    {
      "cell_type": "markdown",
      "metadata": {
        "id": "seLRswd3ED9x",
        "colab_type": "text"
      },
      "source": [
        "**Q9. (Finding the smallest n such that n<sup>2</sup> > 12000)**\n",
        "\n",
        "Use a while loop to find the smallest integer n such that n<sup>2</sup> is greater than 12,000. "
      ]
    },
    {
      "cell_type": "code",
      "metadata": {
        "id": "n_1AS9EREHgQ",
        "colab_type": "code",
        "outputId": "b4820955-4e35-47fb-fe0a-ab96cae3f93c",
        "colab": {
          "base_uri": "https://localhost:8080/",
          "height": 34
        }
      },
      "source": [
        "n = 0\n",
        "while n ** 2 <= 12000:\n",
        "  n += 1\n",
        "print(n)"
      ],
      "execution_count": 0,
      "outputs": [
        {
          "output_type": "stream",
          "text": [
            "110\n"
          ],
          "name": "stdout"
        }
      ]
    },
    {
      "cell_type": "markdown",
      "metadata": {
        "id": "YHyv5TE6EH24",
        "colab_type": "text"
      },
      "source": [
        "**Q10. (Finding the largest n such that n<sup>3</sup> < 12000)** \n",
        "\n",
        "Use a while loop to find the largest integer n such that n<sup>3</sup> is less than 12,000."
      ]
    },
    {
      "cell_type": "code",
      "metadata": {
        "id": "B--GNWkcEKkR",
        "colab_type": "code",
        "outputId": "3b9a8b8e-72f3-461a-cf04-a90a8a226ff6",
        "colab": {
          "base_uri": "https://localhost:8080/",
          "height": 34
        }
      },
      "source": [
        "n = 0 \n",
        "while n ** 3 <= 12000:\n",
        "  n += 1\n",
        "n -= 1\n",
        "print(n)"
      ],
      "execution_count": 0,
      "outputs": [
        {
          "output_type": "stream",
          "text": [
            "22\n"
          ],
          "name": "stdout"
        }
      ]
    },
    {
      "cell_type": "markdown",
      "metadata": {
        "id": "lr8Er0cXEKzY",
        "colab_type": "text"
      },
      "source": [
        "**Q11. (Computing the greatest common divisor)**\n",
        "\n",
        "A solution to find the greatest common divisor of two integers n1 and n2 is as follows:\n",
        "* First find d to be the minimum of n1 and n2\n",
        "* Then check whether d, d-1, … d-2, 2, or 1 is a divisor for both n1 and n2 in this order.\n",
        "* The first such common divisor is the greatest common divisor for n1 and n2. \n",
        "\n",
        "Write a program to implement this solution.  \n",
        "Sample interaction:\n",
        "```\n",
        "Enter n1: 12\n",
        "Enter n2: 18\n",
        "GCD: 6\n",
        "```"
      ]
    },
    {
      "cell_type": "code",
      "metadata": {
        "id": "T8iKWDpgEOSw",
        "colab_type": "code",
        "outputId": "7c65303e-4765-4ef3-8933-f09c3b784f2f",
        "colab": {
          "base_uri": "https://localhost:8080/",
          "height": 67
        }
      },
      "source": [
        "n1 = int(input('Enter n1: '))\n",
        "n2 = int(input('Enter n2: '))\n",
        "for i in range(1, n1+1):\n",
        "  if((n1 % i == 0) and (n2 % i == 0)):\n",
        "    ans = i \n",
        "              \n",
        "print(ans)\n"
      ],
      "execution_count": 0,
      "outputs": [
        {
          "output_type": "stream",
          "text": [
            "Enter n1: 18\n",
            "Enter n2: 12\n",
            "6\n"
          ],
          "name": "stdout"
        }
      ]
    },
    {
      "cell_type": "markdown",
      "metadata": {
        "id": "-kojjY6zEOkn",
        "colab_type": "text"
      },
      "source": [
        "**Q12. (Find factors of a positive integer)**\n",
        "\n",
        "Write a program that reads a positive integer > 1 and displays all its factors.   \n",
        "Sample interaction:\n",
        "```\n",
        "Enter n: 120\n",
        "Factors: 2 2 2 3 5 \n",
        "```"
      ]
    },
    {
      "cell_type": "code",
      "metadata": {
        "id": "peKIvA_NbsPf",
        "colab_type": "code",
        "outputId": "8994ab75-f03e-45d5-ef52-b8a6562c7cbb",
        "colab": {
          "base_uri": "https://localhost:8080/",
          "height": 50
        }
      },
      "source": [
        "list1 = []\n",
        "j = 2\n",
        "n = int(input('Enter n: '))\n",
        "while n != 1:\n",
        "  if (n % j == 0):\n",
        "    list1.append(j)\n",
        "    n = n / j\n",
        "  else:\n",
        "    j += 1\n",
        "print(list1)"
      ],
      "execution_count": 0,
      "outputs": [
        {
          "output_type": "stream",
          "text": [
            "Enter n: 120\n",
            "[2, 2, 2, 3, 5]\n"
          ],
          "name": "stdout"
        }
      ]
    }
  ]
}